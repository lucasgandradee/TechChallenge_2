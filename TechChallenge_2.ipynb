{
 "cells": [
  {
   "cell_type": "code",
   "execution_count": 318,
   "id": "c91b37b9",
   "metadata": {},
   "outputs": [],
   "source": [
    "import pandas as pd\n",
    "import matplotlib.pyplot as plt\n",
    "import seaborn as sns\n",
    "import numpy as np\n",
    "from sklearn.model_selection import train_test_split\n",
    "from sklearn.metrics import accuracy_score"
   ]
  },
  {
   "cell_type": "code",
   "execution_count": 231,
   "id": "d3d62372",
   "metadata": {},
   "outputs": [],
   "source": [
    "dados = pd.read_csv(r\"C:\\Users\\Lucas\\Desktop\\FIAP\\Fase 2\\TechChallenge_2\\data\\Ibovespa_2015-2025.csv\", sep=',')"
   ]
  },
  {
   "cell_type": "code",
   "execution_count": 232,
   "id": "f7b9bb6b",
   "metadata": {},
   "outputs": [
    {
     "data": {
      "application/vnd.microsoft.datawrangler.viewer.v0+json": {
       "columns": [
        {
         "name": "index",
         "rawType": "int64",
         "type": "integer"
        },
        {
         "name": "Data",
         "rawType": "object",
         "type": "string"
        },
        {
         "name": "Último",
         "rawType": "float64",
         "type": "float"
        },
        {
         "name": "Abertura",
         "rawType": "float64",
         "type": "float"
        },
        {
         "name": "Máxima",
         "rawType": "float64",
         "type": "float"
        },
        {
         "name": "Mínima",
         "rawType": "float64",
         "type": "float"
        },
        {
         "name": "Vol.",
         "rawType": "object",
         "type": "string"
        },
        {
         "name": "Var%",
         "rawType": "object",
         "type": "string"
        }
       ],
       "ref": "6af8042c-7c45-4d2b-b65c-a5451cefa6b5",
       "rows": [
        [
         "0",
         "01.07.2025",
         "139.549",
         "138.855",
         "139.695",
         "138.855",
         "6,35B",
         "0,50%"
        ],
        [
         "1",
         "30.06.2025",
         "138.855",
         "136.865",
         "139.103",
         "136.43",
         "7,68B",
         "1,45%"
        ],
        [
         "2",
         "27.06.2025",
         "136.866",
         "137.113",
         "137.209",
         "136.469",
         "6,24B",
         "-0,18%"
        ],
        [
         "3",
         "26.06.2025",
         "137.114",
         "135.767",
         "137.353",
         "135.756",
         "8,02B",
         "0,99%"
        ],
        [
         "4",
         "25.06.2025",
         "135.767",
         "137.163",
         "137.163",
         "135.565",
         "7,71B",
         "-1,02%"
        ]
       ],
       "shape": {
        "columns": 7,
        "rows": 5
       }
      },
      "text/html": [
       "<div>\n",
       "<style scoped>\n",
       "    .dataframe tbody tr th:only-of-type {\n",
       "        vertical-align: middle;\n",
       "    }\n",
       "\n",
       "    .dataframe tbody tr th {\n",
       "        vertical-align: top;\n",
       "    }\n",
       "\n",
       "    .dataframe thead th {\n",
       "        text-align: right;\n",
       "    }\n",
       "</style>\n",
       "<table border=\"1\" class=\"dataframe\">\n",
       "  <thead>\n",
       "    <tr style=\"text-align: right;\">\n",
       "      <th></th>\n",
       "      <th>Data</th>\n",
       "      <th>Último</th>\n",
       "      <th>Abertura</th>\n",
       "      <th>Máxima</th>\n",
       "      <th>Mínima</th>\n",
       "      <th>Vol.</th>\n",
       "      <th>Var%</th>\n",
       "    </tr>\n",
       "  </thead>\n",
       "  <tbody>\n",
       "    <tr>\n",
       "      <th>0</th>\n",
       "      <td>01.07.2025</td>\n",
       "      <td>139.549</td>\n",
       "      <td>138.855</td>\n",
       "      <td>139.695</td>\n",
       "      <td>138.855</td>\n",
       "      <td>6,35B</td>\n",
       "      <td>0,50%</td>\n",
       "    </tr>\n",
       "    <tr>\n",
       "      <th>1</th>\n",
       "      <td>30.06.2025</td>\n",
       "      <td>138.855</td>\n",
       "      <td>136.865</td>\n",
       "      <td>139.103</td>\n",
       "      <td>136.430</td>\n",
       "      <td>7,68B</td>\n",
       "      <td>1,45%</td>\n",
       "    </tr>\n",
       "    <tr>\n",
       "      <th>2</th>\n",
       "      <td>27.06.2025</td>\n",
       "      <td>136.866</td>\n",
       "      <td>137.113</td>\n",
       "      <td>137.209</td>\n",
       "      <td>136.469</td>\n",
       "      <td>6,24B</td>\n",
       "      <td>-0,18%</td>\n",
       "    </tr>\n",
       "    <tr>\n",
       "      <th>3</th>\n",
       "      <td>26.06.2025</td>\n",
       "      <td>137.114</td>\n",
       "      <td>135.767</td>\n",
       "      <td>137.353</td>\n",
       "      <td>135.756</td>\n",
       "      <td>8,02B</td>\n",
       "      <td>0,99%</td>\n",
       "    </tr>\n",
       "    <tr>\n",
       "      <th>4</th>\n",
       "      <td>25.06.2025</td>\n",
       "      <td>135.767</td>\n",
       "      <td>137.163</td>\n",
       "      <td>137.163</td>\n",
       "      <td>135.565</td>\n",
       "      <td>7,71B</td>\n",
       "      <td>-1,02%</td>\n",
       "    </tr>\n",
       "  </tbody>\n",
       "</table>\n",
       "</div>"
      ],
      "text/plain": [
       "         Data   Último  Abertura   Máxima   Mínima   Vol.    Var%\n",
       "0  01.07.2025  139.549   138.855  139.695  138.855  6,35B   0,50%\n",
       "1  30.06.2025  138.855   136.865  139.103  136.430  7,68B   1,45%\n",
       "2  27.06.2025  136.866   137.113  137.209  136.469  6,24B  -0,18%\n",
       "3  26.06.2025  137.114   135.767  137.353  135.756  8,02B   0,99%\n",
       "4  25.06.2025  135.767   137.163  137.163  135.565  7,71B  -1,02%"
      ]
     },
     "execution_count": 232,
     "metadata": {},
     "output_type": "execute_result"
    }
   ],
   "source": [
    "dados.head()"
   ]
  },
  {
   "cell_type": "code",
   "execution_count": 233,
   "id": "d106ce9d",
   "metadata": {},
   "outputs": [
    {
     "data": {
      "application/vnd.microsoft.datawrangler.viewer.v0+json": {
       "columns": [
        {
         "name": "index",
         "rawType": "int64",
         "type": "integer"
        },
        {
         "name": "Data",
         "rawType": "object",
         "type": "string"
        },
        {
         "name": "Último",
         "rawType": "float64",
         "type": "float"
        },
        {
         "name": "Abertura",
         "rawType": "float64",
         "type": "float"
        },
        {
         "name": "Máxima",
         "rawType": "float64",
         "type": "float"
        },
        {
         "name": "Mínima",
         "rawType": "float64",
         "type": "float"
        },
        {
         "name": "Vol.",
         "rawType": "object",
         "type": "string"
        },
        {
         "name": "Var%",
         "rawType": "object",
         "type": "string"
        }
       ],
       "ref": "1b94522c-149f-4a52-8f84-eb4228c0f23d",
       "rows": [
        [
         "2597",
         "08.01.2015",
         "49.943",
         "49.463",
         "50.261",
         "49.017",
         "3,62M",
         "0,97%"
        ],
        [
         "2598",
         "07.01.2015",
         "49.463",
         "48.006",
         "49.882",
         "48.006",
         "4,41M",
         "3,05%"
        ],
        [
         "2599",
         "06.01.2015",
         "48.001",
         "47.517",
         "48.061",
         "47.338",
         "4,56M",
         "1,02%"
        ],
        [
         "2600",
         "05.01.2015",
         "47.517",
         "48.512",
         "48.512",
         "47.264",
         "3,87M",
         "-2,05%"
        ],
        [
         "2601",
         "02.01.2015",
         "48.512",
         "50.004",
         "50.004",
         "48.345",
         "2,88M",
         "-2,99%"
        ]
       ],
       "shape": {
        "columns": 7,
        "rows": 5
       }
      },
      "text/html": [
       "<div>\n",
       "<style scoped>\n",
       "    .dataframe tbody tr th:only-of-type {\n",
       "        vertical-align: middle;\n",
       "    }\n",
       "\n",
       "    .dataframe tbody tr th {\n",
       "        vertical-align: top;\n",
       "    }\n",
       "\n",
       "    .dataframe thead th {\n",
       "        text-align: right;\n",
       "    }\n",
       "</style>\n",
       "<table border=\"1\" class=\"dataframe\">\n",
       "  <thead>\n",
       "    <tr style=\"text-align: right;\">\n",
       "      <th></th>\n",
       "      <th>Data</th>\n",
       "      <th>Último</th>\n",
       "      <th>Abertura</th>\n",
       "      <th>Máxima</th>\n",
       "      <th>Mínima</th>\n",
       "      <th>Vol.</th>\n",
       "      <th>Var%</th>\n",
       "    </tr>\n",
       "  </thead>\n",
       "  <tbody>\n",
       "    <tr>\n",
       "      <th>2597</th>\n",
       "      <td>08.01.2015</td>\n",
       "      <td>49.943</td>\n",
       "      <td>49.463</td>\n",
       "      <td>50.261</td>\n",
       "      <td>49.017</td>\n",
       "      <td>3,62M</td>\n",
       "      <td>0,97%</td>\n",
       "    </tr>\n",
       "    <tr>\n",
       "      <th>2598</th>\n",
       "      <td>07.01.2015</td>\n",
       "      <td>49.463</td>\n",
       "      <td>48.006</td>\n",
       "      <td>49.882</td>\n",
       "      <td>48.006</td>\n",
       "      <td>4,41M</td>\n",
       "      <td>3,05%</td>\n",
       "    </tr>\n",
       "    <tr>\n",
       "      <th>2599</th>\n",
       "      <td>06.01.2015</td>\n",
       "      <td>48.001</td>\n",
       "      <td>47.517</td>\n",
       "      <td>48.061</td>\n",
       "      <td>47.338</td>\n",
       "      <td>4,56M</td>\n",
       "      <td>1,02%</td>\n",
       "    </tr>\n",
       "    <tr>\n",
       "      <th>2600</th>\n",
       "      <td>05.01.2015</td>\n",
       "      <td>47.517</td>\n",
       "      <td>48.512</td>\n",
       "      <td>48.512</td>\n",
       "      <td>47.264</td>\n",
       "      <td>3,87M</td>\n",
       "      <td>-2,05%</td>\n",
       "    </tr>\n",
       "    <tr>\n",
       "      <th>2601</th>\n",
       "      <td>02.01.2015</td>\n",
       "      <td>48.512</td>\n",
       "      <td>50.004</td>\n",
       "      <td>50.004</td>\n",
       "      <td>48.345</td>\n",
       "      <td>2,88M</td>\n",
       "      <td>-2,99%</td>\n",
       "    </tr>\n",
       "  </tbody>\n",
       "</table>\n",
       "</div>"
      ],
      "text/plain": [
       "            Data  Último  Abertura  Máxima  Mínima   Vol.    Var%\n",
       "2597  08.01.2015  49.943    49.463  50.261  49.017  3,62M   0,97%\n",
       "2598  07.01.2015  49.463    48.006  49.882  48.006  4,41M   3,05%\n",
       "2599  06.01.2015  48.001    47.517  48.061  47.338  4,56M   1,02%\n",
       "2600  05.01.2015  47.517    48.512  48.512  47.264  3,87M  -2,05%\n",
       "2601  02.01.2015  48.512    50.004  50.004  48.345  2,88M  -2,99%"
      ]
     },
     "execution_count": 233,
     "metadata": {},
     "output_type": "execute_result"
    }
   ],
   "source": [
    "dados.tail()"
   ]
  },
  {
   "cell_type": "code",
   "execution_count": 234,
   "id": "6365bf37",
   "metadata": {},
   "outputs": [
    {
     "data": {
      "application/vnd.microsoft.datawrangler.viewer.v0+json": {
       "columns": [
        {
         "name": "index",
         "rawType": "object",
         "type": "string"
        },
        {
         "name": "0",
         "rawType": "int64",
         "type": "integer"
        }
       ],
       "ref": "d0192a85-f09a-4cac-addc-fef9f4f33486",
       "rows": [
        [
         "Data",
         "0"
        ],
        [
         "Último",
         "0"
        ],
        [
         "Abertura",
         "0"
        ],
        [
         "Máxima",
         "0"
        ],
        [
         "Mínima",
         "0"
        ],
        [
         "Vol.",
         "1"
        ],
        [
         "Var%",
         "0"
        ]
       ],
       "shape": {
        "columns": 1,
        "rows": 7
       }
      },
      "text/plain": [
       "Data        0\n",
       "Último      0\n",
       "Abertura    0\n",
       "Máxima      0\n",
       "Mínima      0\n",
       "Vol.        1\n",
       "Var%        0\n",
       "dtype: int64"
      ]
     },
     "execution_count": 234,
     "metadata": {},
     "output_type": "execute_result"
    }
   ],
   "source": [
    "dados.isnull().sum()"
   ]
  },
  {
   "cell_type": "code",
   "execution_count": 235,
   "id": "5ca8fe1d",
   "metadata": {},
   "outputs": [
    {
     "name": "stdout",
     "output_type": "stream",
     "text": [
      "            Data  Último  Abertura  Máxima  Mínima Vol.    Var%\n",
      "2331  10.02.2016  40.377    40.592  40.592   39.96  NaN  -0,53%\n"
     ]
    }
   ],
   "source": [
    "# Filtra o DataFrame para mostrar apenas as linhas que contêm QUALQUER valor nulo\n",
    "linhas_com_nulos = dados[dados.isnull().any(axis=1)]\n",
    "\n",
    "print(linhas_com_nulos)"
   ]
  },
  {
   "cell_type": "code",
   "execution_count": 236,
   "id": "ff1b8697",
   "metadata": {},
   "outputs": [],
   "source": [
    "dados = dados.dropna()"
   ]
  },
  {
   "cell_type": "code",
   "execution_count": 237,
   "id": "cb4f6e79",
   "metadata": {},
   "outputs": [
    {
     "data": {
      "application/vnd.microsoft.datawrangler.viewer.v0+json": {
       "columns": [
        {
         "name": "index",
         "rawType": "object",
         "type": "string"
        },
        {
         "name": "0",
         "rawType": "int64",
         "type": "integer"
        }
       ],
       "ref": "fe030945-47eb-41a8-92c5-57641afc1495",
       "rows": [
        [
         "Data",
         "0"
        ],
        [
         "Último",
         "0"
        ],
        [
         "Abertura",
         "0"
        ],
        [
         "Máxima",
         "0"
        ],
        [
         "Mínima",
         "0"
        ],
        [
         "Vol.",
         "0"
        ],
        [
         "Var%",
         "0"
        ]
       ],
       "shape": {
        "columns": 1,
        "rows": 7
       }
      },
      "text/plain": [
       "Data        0\n",
       "Último      0\n",
       "Abertura    0\n",
       "Máxima      0\n",
       "Mínima      0\n",
       "Vol.        0\n",
       "Var%        0\n",
       "dtype: int64"
      ]
     },
     "execution_count": 237,
     "metadata": {},
     "output_type": "execute_result"
    }
   ],
   "source": [
    "dados.isnull().sum()"
   ]
  },
  {
   "cell_type": "code",
   "execution_count": 238,
   "id": "cc7212d3",
   "metadata": {},
   "outputs": [
    {
     "data": {
      "text/plain": [
       "(2601, 7)"
      ]
     },
     "execution_count": 238,
     "metadata": {},
     "output_type": "execute_result"
    }
   ],
   "source": [
    "dados.shape"
   ]
  },
  {
   "cell_type": "code",
   "execution_count": 239,
   "id": "39b9d171",
   "metadata": {},
   "outputs": [
    {
     "data": {
      "application/vnd.microsoft.datawrangler.viewer.v0+json": {
       "columns": [
        {
         "name": "index",
         "rawType": "object",
         "type": "string"
        },
        {
         "name": "Último",
         "rawType": "float64",
         "type": "float"
        },
        {
         "name": "Abertura",
         "rawType": "float64",
         "type": "float"
        },
        {
         "name": "Máxima",
         "rawType": "float64",
         "type": "float"
        },
        {
         "name": "Mínima",
         "rawType": "float64",
         "type": "float"
        }
       ],
       "ref": "963a9f30-cc42-4be9-837c-396b60c90432",
       "rows": [
        [
         "count",
         "2601.0",
         "2601.0",
         "2601.0",
         "2601.0"
        ],
        [
         "mean",
         "94.03",
         "93.99",
         "94.83",
         "93.19"
        ],
        [
         "std",
         "27.64",
         "27.64",
         "27.76",
         "27.53"
        ],
        [
         "min",
         "37.5",
         "37.5",
         "38.03",
         "37.05"
        ],
        [
         "25%",
         "68.53",
         "68.47",
         "69.05",
         "67.87"
        ],
        [
         "50%",
         "101.2",
         "101.2",
         "102.18",
         "100.16"
        ],
        [
         "75%",
         "116.81",
         "116.78",
         "117.86",
         "115.84"
        ],
        [
         "max",
         "140.11",
         "140.11",
         "140.38",
         "138.97"
        ]
       ],
       "shape": {
        "columns": 4,
        "rows": 8
       }
      },
      "text/html": [
       "<div>\n",
       "<style scoped>\n",
       "    .dataframe tbody tr th:only-of-type {\n",
       "        vertical-align: middle;\n",
       "    }\n",
       "\n",
       "    .dataframe tbody tr th {\n",
       "        vertical-align: top;\n",
       "    }\n",
       "\n",
       "    .dataframe thead th {\n",
       "        text-align: right;\n",
       "    }\n",
       "</style>\n",
       "<table border=\"1\" class=\"dataframe\">\n",
       "  <thead>\n",
       "    <tr style=\"text-align: right;\">\n",
       "      <th></th>\n",
       "      <th>Último</th>\n",
       "      <th>Abertura</th>\n",
       "      <th>Máxima</th>\n",
       "      <th>Mínima</th>\n",
       "    </tr>\n",
       "  </thead>\n",
       "  <tbody>\n",
       "    <tr>\n",
       "      <th>count</th>\n",
       "      <td>2601.00</td>\n",
       "      <td>2601.00</td>\n",
       "      <td>2601.00</td>\n",
       "      <td>2601.00</td>\n",
       "    </tr>\n",
       "    <tr>\n",
       "      <th>mean</th>\n",
       "      <td>94.03</td>\n",
       "      <td>93.99</td>\n",
       "      <td>94.83</td>\n",
       "      <td>93.19</td>\n",
       "    </tr>\n",
       "    <tr>\n",
       "      <th>std</th>\n",
       "      <td>27.64</td>\n",
       "      <td>27.64</td>\n",
       "      <td>27.76</td>\n",
       "      <td>27.53</td>\n",
       "    </tr>\n",
       "    <tr>\n",
       "      <th>min</th>\n",
       "      <td>37.50</td>\n",
       "      <td>37.50</td>\n",
       "      <td>38.03</td>\n",
       "      <td>37.05</td>\n",
       "    </tr>\n",
       "    <tr>\n",
       "      <th>25%</th>\n",
       "      <td>68.53</td>\n",
       "      <td>68.47</td>\n",
       "      <td>69.05</td>\n",
       "      <td>67.87</td>\n",
       "    </tr>\n",
       "    <tr>\n",
       "      <th>50%</th>\n",
       "      <td>101.20</td>\n",
       "      <td>101.20</td>\n",
       "      <td>102.18</td>\n",
       "      <td>100.16</td>\n",
       "    </tr>\n",
       "    <tr>\n",
       "      <th>75%</th>\n",
       "      <td>116.81</td>\n",
       "      <td>116.78</td>\n",
       "      <td>117.86</td>\n",
       "      <td>115.84</td>\n",
       "    </tr>\n",
       "    <tr>\n",
       "      <th>max</th>\n",
       "      <td>140.11</td>\n",
       "      <td>140.11</td>\n",
       "      <td>140.38</td>\n",
       "      <td>138.97</td>\n",
       "    </tr>\n",
       "  </tbody>\n",
       "</table>\n",
       "</div>"
      ],
      "text/plain": [
       "        Último  Abertura   Máxima   Mínima\n",
       "count  2601.00   2601.00  2601.00  2601.00\n",
       "mean     94.03     93.99    94.83    93.19\n",
       "std      27.64     27.64    27.76    27.53\n",
       "min      37.50     37.50    38.03    37.05\n",
       "25%      68.53     68.47    69.05    67.87\n",
       "50%     101.20    101.20   102.18   100.16\n",
       "75%     116.81    116.78   117.86   115.84\n",
       "max     140.11    140.11   140.38   138.97"
      ]
     },
     "execution_count": 239,
     "metadata": {},
     "output_type": "execute_result"
    }
   ],
   "source": [
    "dados.describe().round(2)"
   ]
  },
  {
   "cell_type": "code",
   "execution_count": 240,
   "id": "9e31dcad",
   "metadata": {},
   "outputs": [],
   "source": [
    "dados['Data'] = dados['Data'].str.replace(\".\",\"/\")\n",
    "dados['Data'] = pd.to_datetime(dados['Data'], format='%d/%m/%Y')"
   ]
  },
  {
   "cell_type": "code",
   "execution_count": null,
   "id": "fde756ef",
   "metadata": {},
   "outputs": [],
   "source": []
  },
  {
   "cell_type": "code",
   "execution_count": 241,
   "id": "d5227349",
   "metadata": {},
   "outputs": [
    {
     "data": {
      "application/vnd.microsoft.datawrangler.viewer.v0+json": {
       "columns": [
        {
         "name": "index",
         "rawType": "int64",
         "type": "integer"
        },
        {
         "name": "Data",
         "rawType": "datetime64[ns]",
         "type": "datetime"
        },
        {
         "name": "Último",
         "rawType": "float64",
         "type": "float"
        },
        {
         "name": "Abertura",
         "rawType": "float64",
         "type": "float"
        },
        {
         "name": "Máxima",
         "rawType": "float64",
         "type": "float"
        },
        {
         "name": "Mínima",
         "rawType": "float64",
         "type": "float"
        },
        {
         "name": "Vol.",
         "rawType": "object",
         "type": "string"
        },
        {
         "name": "Var%",
         "rawType": "object",
         "type": "string"
        }
       ],
       "ref": "93f1781b-ead0-4293-b1d0-b6a3e64b623a",
       "rows": [
        [
         "0",
         "2025-07-01 00:00:00",
         "139.549",
         "138.855",
         "139.695",
         "138.855",
         "6,35B",
         "0,50%"
        ],
        [
         "1",
         "2025-06-30 00:00:00",
         "138.855",
         "136.865",
         "139.103",
         "136.43",
         "7,68B",
         "1,45%"
        ],
        [
         "2",
         "2025-06-27 00:00:00",
         "136.866",
         "137.113",
         "137.209",
         "136.469",
         "6,24B",
         "-0,18%"
        ],
        [
         "3",
         "2025-06-26 00:00:00",
         "137.114",
         "135.767",
         "137.353",
         "135.756",
         "8,02B",
         "0,99%"
        ],
        [
         "4",
         "2025-06-25 00:00:00",
         "135.767",
         "137.163",
         "137.163",
         "135.565",
         "7,71B",
         "-1,02%"
        ]
       ],
       "shape": {
        "columns": 7,
        "rows": 5
       }
      },
      "text/html": [
       "<div>\n",
       "<style scoped>\n",
       "    .dataframe tbody tr th:only-of-type {\n",
       "        vertical-align: middle;\n",
       "    }\n",
       "\n",
       "    .dataframe tbody tr th {\n",
       "        vertical-align: top;\n",
       "    }\n",
       "\n",
       "    .dataframe thead th {\n",
       "        text-align: right;\n",
       "    }\n",
       "</style>\n",
       "<table border=\"1\" class=\"dataframe\">\n",
       "  <thead>\n",
       "    <tr style=\"text-align: right;\">\n",
       "      <th></th>\n",
       "      <th>Data</th>\n",
       "      <th>Último</th>\n",
       "      <th>Abertura</th>\n",
       "      <th>Máxima</th>\n",
       "      <th>Mínima</th>\n",
       "      <th>Vol.</th>\n",
       "      <th>Var%</th>\n",
       "    </tr>\n",
       "  </thead>\n",
       "  <tbody>\n",
       "    <tr>\n",
       "      <th>0</th>\n",
       "      <td>2025-07-01</td>\n",
       "      <td>139.549</td>\n",
       "      <td>138.855</td>\n",
       "      <td>139.695</td>\n",
       "      <td>138.855</td>\n",
       "      <td>6,35B</td>\n",
       "      <td>0,50%</td>\n",
       "    </tr>\n",
       "    <tr>\n",
       "      <th>1</th>\n",
       "      <td>2025-06-30</td>\n",
       "      <td>138.855</td>\n",
       "      <td>136.865</td>\n",
       "      <td>139.103</td>\n",
       "      <td>136.430</td>\n",
       "      <td>7,68B</td>\n",
       "      <td>1,45%</td>\n",
       "    </tr>\n",
       "    <tr>\n",
       "      <th>2</th>\n",
       "      <td>2025-06-27</td>\n",
       "      <td>136.866</td>\n",
       "      <td>137.113</td>\n",
       "      <td>137.209</td>\n",
       "      <td>136.469</td>\n",
       "      <td>6,24B</td>\n",
       "      <td>-0,18%</td>\n",
       "    </tr>\n",
       "    <tr>\n",
       "      <th>3</th>\n",
       "      <td>2025-06-26</td>\n",
       "      <td>137.114</td>\n",
       "      <td>135.767</td>\n",
       "      <td>137.353</td>\n",
       "      <td>135.756</td>\n",
       "      <td>8,02B</td>\n",
       "      <td>0,99%</td>\n",
       "    </tr>\n",
       "    <tr>\n",
       "      <th>4</th>\n",
       "      <td>2025-06-25</td>\n",
       "      <td>135.767</td>\n",
       "      <td>137.163</td>\n",
       "      <td>137.163</td>\n",
       "      <td>135.565</td>\n",
       "      <td>7,71B</td>\n",
       "      <td>-1,02%</td>\n",
       "    </tr>\n",
       "  </tbody>\n",
       "</table>\n",
       "</div>"
      ],
      "text/plain": [
       "        Data   Último  Abertura   Máxima   Mínima   Vol.    Var%\n",
       "0 2025-07-01  139.549   138.855  139.695  138.855  6,35B   0,50%\n",
       "1 2025-06-30  138.855   136.865  139.103  136.430  7,68B   1,45%\n",
       "2 2025-06-27  136.866   137.113  137.209  136.469  6,24B  -0,18%\n",
       "3 2025-06-26  137.114   135.767  137.353  135.756  8,02B   0,99%\n",
       "4 2025-06-25  135.767   137.163  137.163  135.565  7,71B  -1,02%"
      ]
     },
     "execution_count": 241,
     "metadata": {},
     "output_type": "execute_result"
    }
   ],
   "source": [
    "dados.head()"
   ]
  },
  {
   "cell_type": "code",
   "execution_count": 242,
   "id": "3c3dea35",
   "metadata": {},
   "outputs": [
    {
     "name": "stdout",
     "output_type": "stream",
     "text": [
      "<class 'pandas.core.frame.DataFrame'>\n",
      "Index: 2601 entries, 0 to 2601\n",
      "Data columns (total 7 columns):\n",
      " #   Column    Non-Null Count  Dtype         \n",
      "---  ------    --------------  -----         \n",
      " 0   Data      2601 non-null   datetime64[ns]\n",
      " 1   Último    2601 non-null   float64       \n",
      " 2   Abertura  2601 non-null   float64       \n",
      " 3   Máxima    2601 non-null   float64       \n",
      " 4   Mínima    2601 non-null   float64       \n",
      " 5   Vol.      2601 non-null   object        \n",
      " 6   Var%      2601 non-null   object        \n",
      "dtypes: datetime64[ns](1), float64(4), object(2)\n",
      "memory usage: 162.6+ KB\n"
     ]
    }
   ],
   "source": [
    "dados.info()"
   ]
  },
  {
   "cell_type": "code",
   "execution_count": 243,
   "id": "aff792f1",
   "metadata": {},
   "outputs": [],
   "source": [
    "#dados['Vol.'] = dados['Vol.'].str.replace('M','')\n",
    "dados['Vol.'] = dados['Vol.'].str.replace(',','.')\n",
    "\n",
    "def converter_volume(valor):\n",
    "    \n",
    "    #valor = valor.str.replace(',','.')\n",
    "    \"\"\"\n",
    "    Converte uma string com sufixos (K, M) para um valor numérico (float).\n",
    "    \"\"\"\n",
    "    # Verifica se o valor é uma string antes de tentar manipulá-lo\n",
    "    if isinstance(valor, str):\n",
    "        valor_upper = valor.upper() # Usa uma variável para padronizar\n",
    "        if 'M' in valor_upper:\n",
    "            # Remove o 'M' e multiplica por 1,000,000\n",
    "            return float(valor_upper.replace('M', '')) * 1_000_000\n",
    "        elif 'K' in valor_upper:\n",
    "            # Remove o 'K' e multiplica por 1,000\n",
    "            return float(valor_upper.replace('K', '')) * 1_000\n",
    "        elif 'B':\n",
    "            # Remove o 'B' e multiplica por 1,000,000,000\n",
    "            return float(valor_upper.replace('B', '')) * 1_000_000_000\n",
    "            \n",
    "    # Para valores que já são números ou podem ser convertidos diretamente\n",
    "    # Retorna NaN para qualquer outra string que não se encaixe (ex: '-')\n",
    "    return pd.to_numeric(valor, errors='coerce')\n",
    "\n",
    "\n",
    "dados['Vol.'] = dados['Vol.'].apply(converter_volume)"
   ]
  },
  {
   "cell_type": "code",
   "execution_count": 244,
   "id": "28f520b6",
   "metadata": {},
   "outputs": [
    {
     "data": {
      "application/vnd.microsoft.datawrangler.viewer.v0+json": {
       "columns": [
        {
         "name": "index",
         "rawType": "int64",
         "type": "integer"
        },
        {
         "name": "Vol.",
         "rawType": "float64",
         "type": "float"
        }
       ],
       "ref": "4dc55ec7-24d3-4177-b59f-5cfb6fed3af2",
       "rows": [
        [
         "0",
         "6350000000.0"
        ],
        [
         "1",
         "7680000000.0"
        ],
        [
         "2",
         "6240000000.0"
        ],
        [
         "3",
         "8020000000.0"
        ],
        [
         "4",
         "7710000000.0"
        ],
        [
         "5",
         "8080000000.0"
        ],
        [
         "6",
         "7730000000.0"
        ],
        [
         "7",
         "11290000000.0"
        ],
        [
         "8",
         "8320000000.0"
        ],
        [
         "9",
         "8380000000.000001"
        ],
        [
         "10",
         "7620000000.0"
        ],
        [
         "11",
         "8630000000.0"
        ],
        [
         "12",
         "7120000000.0"
        ],
        [
         "13",
         "8770000000.0"
        ],
        [
         "14",
         "8189999999.999999"
        ],
        [
         "15",
         "7760000000.0"
        ],
        [
         "16",
         "9120000000.0"
        ],
        [
         "17",
         "9480000000.0"
        ],
        [
         "18",
         "10200000000.0"
        ],
        [
         "19",
         "9700000000.0"
        ],
        [
         "20",
         "9100000000.0"
        ],
        [
         "21",
         "15140000000.0"
        ],
        [
         "22",
         "8830000000.0"
        ],
        [
         "23",
         "9730000000.0"
        ],
        [
         "24",
         "11190000000.0"
        ],
        [
         "25",
         "5550000000.0"
        ],
        [
         "26",
         "10680000000.0"
        ],
        [
         "27",
         "13220000000.0"
        ],
        [
         "28",
         "10150000000.0"
        ],
        [
         "29",
         "9650000000.0"
        ],
        [
         "30",
         "9590000000.0"
        ],
        [
         "31",
         "12110000000.0"
        ],
        [
         "32",
         "11500000000.0"
        ],
        [
         "33",
         "11160000000.0"
        ],
        [
         "34",
         "13070000000.0"
        ],
        [
         "35",
         "10920000000.0"
        ],
        [
         "36",
         "13880000000.0"
        ],
        [
         "37",
         "17200000000.0"
        ],
        [
         "38",
         "9940000000.0"
        ],
        [
         "39",
         "11140000000.0"
        ],
        [
         "40",
         "10800000000.0"
        ],
        [
         "41",
         "12740000000.0"
        ],
        [
         "42",
         "15450000000.0"
        ],
        [
         "43",
         "12760000000.0"
        ],
        [
         "44",
         "11450000000.0"
        ],
        [
         "45",
         "13050000000.0"
        ],
        [
         "46",
         "14110000000.0"
        ],
        [
         "47",
         "11340000000.0"
        ],
        [
         "48",
         "8610000000.0"
        ],
        [
         "49",
         "9980000000.0"
        ]
       ],
       "shape": {
        "columns": 1,
        "rows": 2601
       }
      },
      "text/plain": [
       "0       6.350000e+09\n",
       "1       7.680000e+09\n",
       "2       6.240000e+09\n",
       "3       8.020000e+09\n",
       "4       7.710000e+09\n",
       "            ...     \n",
       "2597    3.620000e+06\n",
       "2598    4.410000e+06\n",
       "2599    4.560000e+06\n",
       "2600    3.870000e+06\n",
       "2601    2.880000e+06\n",
       "Name: Vol., Length: 2601, dtype: float64"
      ]
     },
     "execution_count": 244,
     "metadata": {},
     "output_type": "execute_result"
    }
   ],
   "source": [
    "dados['Vol.']"
   ]
  },
  {
   "cell_type": "code",
   "execution_count": 245,
   "id": "25c485b6",
   "metadata": {},
   "outputs": [],
   "source": [
    "dados['Var%'] = dados['Var%'].str.replace(\"%\",\"\")\n",
    "dados['Var%'] = dados['Var%'].str.replace(\",\",\".\")\n",
    "dados['Var%'] = dados['Var%'].astype(float)"
   ]
  },
  {
   "cell_type": "code",
   "execution_count": 246,
   "id": "bbebae1d",
   "metadata": {},
   "outputs": [
    {
     "data": {
      "application/vnd.microsoft.datawrangler.viewer.v0+json": {
       "columns": [
        {
         "name": "index",
         "rawType": "int64",
         "type": "integer"
        },
        {
         "name": "data",
         "rawType": "datetime64[ns]",
         "type": "datetime"
        },
        {
         "name": "ultimo",
         "rawType": "float64",
         "type": "float"
        },
        {
         "name": "abertura",
         "rawType": "float64",
         "type": "float"
        },
        {
         "name": "maxima",
         "rawType": "float64",
         "type": "float"
        },
        {
         "name": "minima",
         "rawType": "float64",
         "type": "float"
        },
        {
         "name": "volume",
         "rawType": "float64",
         "type": "float"
        },
        {
         "name": "variacao_porcento",
         "rawType": "float64",
         "type": "float"
        }
       ],
       "ref": "9f52eff7-3b87-4771-bd8a-b9db1598a389",
       "rows": [
        [
         "0",
         "2025-07-01 00:00:00",
         "139.549",
         "138.855",
         "139.695",
         "138.855",
         "6350000000.0",
         "0.5"
        ],
        [
         "1",
         "2025-06-30 00:00:00",
         "138.855",
         "136.865",
         "139.103",
         "136.43",
         "7680000000.0",
         "1.45"
        ],
        [
         "2",
         "2025-06-27 00:00:00",
         "136.866",
         "137.113",
         "137.209",
         "136.469",
         "6240000000.0",
         "-0.18"
        ],
        [
         "3",
         "2025-06-26 00:00:00",
         "137.114",
         "135.767",
         "137.353",
         "135.756",
         "8020000000.0",
         "0.99"
        ],
        [
         "4",
         "2025-06-25 00:00:00",
         "135.767",
         "137.163",
         "137.163",
         "135.565",
         "7710000000.0",
         "-1.02"
        ],
        [
         "5",
         "2025-06-24 00:00:00",
         "137.165",
         "136.552",
         "138.156",
         "136.254",
         "8080000000.0",
         "0.45"
        ],
        [
         "6",
         "2025-06-23 00:00:00",
         "136.551",
         "137.116",
         "137.13",
         "135.835",
         "7730000000.0",
         "-0.41"
        ],
        [
         "7",
         "2025-06-20 00:00:00",
         "137.116",
         "138.715",
         "138.719",
         "136.815",
         "11290000000.0",
         "-1.15"
        ],
        [
         "8",
         "2025-06-18 00:00:00",
         "138.717",
         "138.844",
         "139.161",
         "138.443",
         "8320000000.0",
         "-0.09"
        ],
        [
         "9",
         "2025-06-17 00:00:00",
         "138.84",
         "139.256",
         "139.497",
         "138.293",
         "8380000000.000001",
         "-0.3"
        ],
        [
         "10",
         "2025-06-16 00:00:00",
         "139.256",
         "137.212",
         "139.988",
         "137.212",
         "7620000000.0",
         "1.49"
        ],
        [
         "11",
         "2025-06-13 00:00:00",
         "137.213",
         "137.8",
         "137.8",
         "136.586",
         "8630000000.0",
         "-0.43"
        ],
        [
         "12",
         "2025-06-12 00:00:00",
         "137.8",
         "137.127",
         "137.931",
         "136.175",
         "7120000000.0",
         "0.49"
        ],
        [
         "13",
         "2025-06-11 00:00:00",
         "137.128",
         "136.443",
         "137.531",
         "135.628",
         "8770000000.0",
         "0.51"
        ],
        [
         "14",
         "2025-06-10 00:00:00",
         "136.436",
         "135.716",
         "137.369",
         "135.716",
         "8189999999.999999",
         "0.54"
        ],
        [
         "15",
         "2025-06-09 00:00:00",
         "135.699",
         "136.102",
         "136.106",
         "134.119",
         "7760000000.0",
         "-0.3"
        ],
        [
         "16",
         "2025-06-06 00:00:00",
         "136.102",
         "136.236",
         "136.89",
         "135.601",
         "9120000000.0",
         "-0.1"
        ],
        [
         "17",
         "2025-06-05 00:00:00",
         "136.236",
         "137.003",
         "137.451",
         "136.031",
         "9480000000.0",
         "-0.56"
        ],
        [
         "18",
         "2025-06-04 00:00:00",
         "137.002",
         "137.547",
         "138.797",
         "136.695",
         "10200000000.0",
         "-0.4"
        ],
        [
         "19",
         "2025-06-03 00:00:00",
         "137.546",
         "136.787",
         "137.672",
         "136.175",
         "9700000000.0",
         "0.56"
        ],
        [
         "20",
         "2025-06-02 00:00:00",
         "136.787",
         "137.026",
         "138.471",
         "136.483",
         "9100000000.0",
         "-0.18"
        ],
        [
         "21",
         "2025-05-30 00:00:00",
         "137.027",
         "138.546",
         "138.637",
         "136.726",
         "15140000000.0",
         "-1.09"
        ],
        [
         "22",
         "2025-05-29 00:00:00",
         "138.534",
         "138.869",
         "139.108",
         "137.993",
         "8830000000.0",
         "-0.25"
        ],
        [
         "23",
         "2025-05-28 00:00:00",
         "138.888",
         "139.541",
         "139.547",
         "138.58",
         "9730000000.0",
         "-0.47"
        ],
        [
         "24",
         "2025-05-27 00:00:00",
         "139.541",
         "138.136",
         "140.382",
         "138.136",
         "11190000000.0",
         "1.02"
        ],
        [
         "25",
         "2025-05-26 00:00:00",
         "138.136",
         "137.824",
         "138.8",
         "137.795",
         "5550000000.0",
         "0.23"
        ],
        [
         "26",
         "2025-05-23 00:00:00",
         "137.824",
         "137.273",
         "137.824",
         "134.997",
         "10680000000.0",
         "0.4"
        ],
        [
         "27",
         "2025-05-22 00:00:00",
         "137.273",
         "137.881",
         "138.837",
         "137.088",
         "13220000000.0",
         "-0.44"
        ],
        [
         "28",
         "2025-05-21 00:00:00",
         "137.881",
         "140.109",
         "140.109",
         "137.538",
         "10150000000.0",
         "-1.59"
        ],
        [
         "29",
         "2025-05-20 00:00:00",
         "140.11",
         "139.636",
         "140.244",
         "138.966",
         "9650000000.0",
         "0.34"
        ],
        [
         "30",
         "2025-05-19 00:00:00",
         "139.636",
         "139.186",
         "140.203",
         "138.587",
         "9590000000.0",
         "0.32"
        ],
        [
         "31",
         "2025-05-16 00:00:00",
         "139.187",
         "139.335",
         "139.335",
         "137.713",
         "12110000000.0",
         "-0.11"
        ],
        [
         "32",
         "2025-05-15 00:00:00",
         "139.334",
         "138.425",
         "139.408",
         "138.321",
         "11500000000.0",
         "0.66"
        ],
        [
         "33",
         "2025-05-14 00:00:00",
         "138.423",
         "138.965",
         "139.362",
         "138.228",
         "11160000000.0",
         "-0.39"
        ],
        [
         "34",
         "2025-05-13 00:00:00",
         "138.963",
         "136.565",
         "139.419",
         "136.55",
         "13070000000.0",
         "1.76"
        ],
        [
         "35",
         "2025-05-12 00:00:00",
         "136.563",
         "136.516",
         "137.519",
         "136.356",
         "10920000000.0",
         "0.04"
        ],
        [
         "36",
         "2025-05-09 00:00:00",
         "136.512",
         "136.232",
         "137.286",
         "136.105",
         "13880000000.0",
         "0.21"
        ],
        [
         "37",
         "2025-05-08 00:00:00",
         "136.232",
         "133.458",
         "137.635",
         "133.458",
         "17200000000.0",
         "2.12"
        ],
        [
         "38",
         "2025-05-07 00:00:00",
         "133.398",
         "133.517",
         "134.11",
         "132.872",
         "9940000000.0",
         "-0.09"
        ],
        [
         "39",
         "2025-05-06 00:00:00",
         "133.516",
         "133.499",
         "134.135",
         "133.26",
         "11140000000.0",
         "0.02"
        ],
        [
         "40",
         "2025-05-05 00:00:00",
         "133.491",
         "135.131",
         "135.198",
         "133.39",
         "10800000000.0",
         "-1.22"
        ],
        [
         "41",
         "2025-05-02 00:00:00",
         "135.134",
         "135.067",
         "135.275",
         "134.355",
         "12740000000.0",
         "0.05"
        ],
        [
         "42",
         "2025-04-30 00:00:00",
         "135.067",
         "135.094",
         "135.171",
         "133.955",
         "15450000000.0",
         "-0.02"
        ],
        [
         "43",
         "2025-04-29 00:00:00",
         "135.093",
         "135.017",
         "136.15",
         "134.899",
         "12760000000.0",
         "0.06"
        ],
        [
         "44",
         "2025-04-28 00:00:00",
         "135.016",
         "134.741",
         "135.709",
         "134.711",
         "11450000000.0",
         "0.21"
        ],
        [
         "45",
         "2025-04-25 00:00:00",
         "134.739",
         "134.579",
         "134.992",
         "134.186",
         "13050000000.0",
         "0.12"
        ],
        [
         "46",
         "2025-04-24 00:00:00",
         "134.58",
         "132.245",
         "134.938",
         "132.223",
         "14110000000.0",
         "1.79"
        ],
        [
         "47",
         "2025-04-23 00:00:00",
         "132.216",
         "130.468",
         "133.318",
         "130.468",
         "11340000000.0",
         "1.34"
        ],
        [
         "48",
         "2025-04-22 00:00:00",
         "130.464",
         "129.65",
         "130.877",
         "128.726",
         "8610000000.0",
         "0.63"
        ],
        [
         "49",
         "2025-04-17 00:00:00",
         "129.65",
         "128.316",
         "130.091",
         "127.973",
         "9980000000.0",
         "1.04"
        ]
       ],
       "shape": {
        "columns": 7,
        "rows": 2601
       }
      },
      "text/html": [
       "<div>\n",
       "<style scoped>\n",
       "    .dataframe tbody tr th:only-of-type {\n",
       "        vertical-align: middle;\n",
       "    }\n",
       "\n",
       "    .dataframe tbody tr th {\n",
       "        vertical-align: top;\n",
       "    }\n",
       "\n",
       "    .dataframe thead th {\n",
       "        text-align: right;\n",
       "    }\n",
       "</style>\n",
       "<table border=\"1\" class=\"dataframe\">\n",
       "  <thead>\n",
       "    <tr style=\"text-align: right;\">\n",
       "      <th></th>\n",
       "      <th>data</th>\n",
       "      <th>ultimo</th>\n",
       "      <th>abertura</th>\n",
       "      <th>maxima</th>\n",
       "      <th>minima</th>\n",
       "      <th>volume</th>\n",
       "      <th>variacao_porcento</th>\n",
       "    </tr>\n",
       "  </thead>\n",
       "  <tbody>\n",
       "    <tr>\n",
       "      <th>0</th>\n",
       "      <td>2025-07-01</td>\n",
       "      <td>139.549</td>\n",
       "      <td>138.855</td>\n",
       "      <td>139.695</td>\n",
       "      <td>138.855</td>\n",
       "      <td>6.350000e+09</td>\n",
       "      <td>0.50</td>\n",
       "    </tr>\n",
       "    <tr>\n",
       "      <th>1</th>\n",
       "      <td>2025-06-30</td>\n",
       "      <td>138.855</td>\n",
       "      <td>136.865</td>\n",
       "      <td>139.103</td>\n",
       "      <td>136.430</td>\n",
       "      <td>7.680000e+09</td>\n",
       "      <td>1.45</td>\n",
       "    </tr>\n",
       "    <tr>\n",
       "      <th>2</th>\n",
       "      <td>2025-06-27</td>\n",
       "      <td>136.866</td>\n",
       "      <td>137.113</td>\n",
       "      <td>137.209</td>\n",
       "      <td>136.469</td>\n",
       "      <td>6.240000e+09</td>\n",
       "      <td>-0.18</td>\n",
       "    </tr>\n",
       "    <tr>\n",
       "      <th>3</th>\n",
       "      <td>2025-06-26</td>\n",
       "      <td>137.114</td>\n",
       "      <td>135.767</td>\n",
       "      <td>137.353</td>\n",
       "      <td>135.756</td>\n",
       "      <td>8.020000e+09</td>\n",
       "      <td>0.99</td>\n",
       "    </tr>\n",
       "    <tr>\n",
       "      <th>4</th>\n",
       "      <td>2025-06-25</td>\n",
       "      <td>135.767</td>\n",
       "      <td>137.163</td>\n",
       "      <td>137.163</td>\n",
       "      <td>135.565</td>\n",
       "      <td>7.710000e+09</td>\n",
       "      <td>-1.02</td>\n",
       "    </tr>\n",
       "    <tr>\n",
       "      <th>...</th>\n",
       "      <td>...</td>\n",
       "      <td>...</td>\n",
       "      <td>...</td>\n",
       "      <td>...</td>\n",
       "      <td>...</td>\n",
       "      <td>...</td>\n",
       "      <td>...</td>\n",
       "    </tr>\n",
       "    <tr>\n",
       "      <th>2597</th>\n",
       "      <td>2015-01-08</td>\n",
       "      <td>49.943</td>\n",
       "      <td>49.463</td>\n",
       "      <td>50.261</td>\n",
       "      <td>49.017</td>\n",
       "      <td>3.620000e+06</td>\n",
       "      <td>0.97</td>\n",
       "    </tr>\n",
       "    <tr>\n",
       "      <th>2598</th>\n",
       "      <td>2015-01-07</td>\n",
       "      <td>49.463</td>\n",
       "      <td>48.006</td>\n",
       "      <td>49.882</td>\n",
       "      <td>48.006</td>\n",
       "      <td>4.410000e+06</td>\n",
       "      <td>3.05</td>\n",
       "    </tr>\n",
       "    <tr>\n",
       "      <th>2599</th>\n",
       "      <td>2015-01-06</td>\n",
       "      <td>48.001</td>\n",
       "      <td>47.517</td>\n",
       "      <td>48.061</td>\n",
       "      <td>47.338</td>\n",
       "      <td>4.560000e+06</td>\n",
       "      <td>1.02</td>\n",
       "    </tr>\n",
       "    <tr>\n",
       "      <th>2600</th>\n",
       "      <td>2015-01-05</td>\n",
       "      <td>47.517</td>\n",
       "      <td>48.512</td>\n",
       "      <td>48.512</td>\n",
       "      <td>47.264</td>\n",
       "      <td>3.870000e+06</td>\n",
       "      <td>-2.05</td>\n",
       "    </tr>\n",
       "    <tr>\n",
       "      <th>2601</th>\n",
       "      <td>2015-01-02</td>\n",
       "      <td>48.512</td>\n",
       "      <td>50.004</td>\n",
       "      <td>50.004</td>\n",
       "      <td>48.345</td>\n",
       "      <td>2.880000e+06</td>\n",
       "      <td>-2.99</td>\n",
       "    </tr>\n",
       "  </tbody>\n",
       "</table>\n",
       "<p>2601 rows × 7 columns</p>\n",
       "</div>"
      ],
      "text/plain": [
       "           data   ultimo  abertura   maxima   minima        volume  \\\n",
       "0    2025-07-01  139.549   138.855  139.695  138.855  6.350000e+09   \n",
       "1    2025-06-30  138.855   136.865  139.103  136.430  7.680000e+09   \n",
       "2    2025-06-27  136.866   137.113  137.209  136.469  6.240000e+09   \n",
       "3    2025-06-26  137.114   135.767  137.353  135.756  8.020000e+09   \n",
       "4    2025-06-25  135.767   137.163  137.163  135.565  7.710000e+09   \n",
       "...         ...      ...       ...      ...      ...           ...   \n",
       "2597 2015-01-08   49.943    49.463   50.261   49.017  3.620000e+06   \n",
       "2598 2015-01-07   49.463    48.006   49.882   48.006  4.410000e+06   \n",
       "2599 2015-01-06   48.001    47.517   48.061   47.338  4.560000e+06   \n",
       "2600 2015-01-05   47.517    48.512   48.512   47.264  3.870000e+06   \n",
       "2601 2015-01-02   48.512    50.004   50.004   48.345  2.880000e+06   \n",
       "\n",
       "      variacao_porcento  \n",
       "0                  0.50  \n",
       "1                  1.45  \n",
       "2                 -0.18  \n",
       "3                  0.99  \n",
       "4                 -1.02  \n",
       "...                 ...  \n",
       "2597               0.97  \n",
       "2598               3.05  \n",
       "2599               1.02  \n",
       "2600              -2.05  \n",
       "2601              -2.99  \n",
       "\n",
       "[2601 rows x 7 columns]"
      ]
     },
     "execution_count": 246,
     "metadata": {},
     "output_type": "execute_result"
    }
   ],
   "source": [
    "dados.columns = [\"data\",\"ultimo\",\"abertura\",\"maxima\",\"minima\", \"volume\", \"variacao_porcento\"]\n",
    "dados_ordenados_por_data = dados.sort_values(by='data', ascending=False)\n",
    "dados_ordenados_por_data"
   ]
  },
  {
   "cell_type": "code",
   "execution_count": 247,
   "id": "1dcd8778",
   "metadata": {},
   "outputs": [
    {
     "data": {
      "application/vnd.microsoft.datawrangler.viewer.v0+json": {
       "columns": [
        {
         "name": "index",
         "rawType": "int64",
         "type": "integer"
        },
        {
         "name": "data",
         "rawType": "datetime64[ns]",
         "type": "datetime"
        },
        {
         "name": "ultimo",
         "rawType": "float64",
         "type": "float"
        },
        {
         "name": "abertura",
         "rawType": "float64",
         "type": "float"
        },
        {
         "name": "maxima",
         "rawType": "float64",
         "type": "float"
        },
        {
         "name": "minima",
         "rawType": "float64",
         "type": "float"
        },
        {
         "name": "volume",
         "rawType": "float64",
         "type": "float"
        },
        {
         "name": "variacao_porcento",
         "rawType": "float64",
         "type": "float"
        },
        {
         "name": "status_fechamento",
         "rawType": "int64",
         "type": "integer"
        }
       ],
       "ref": "b8e41735-a6e2-4bef-9131-8f7fb2313fb7",
       "rows": [
        [
         "0",
         "2025-07-01 00:00:00",
         "139.549",
         "138.855",
         "139.695",
         "138.855",
         "6350000000.0",
         "0.5",
         "1"
        ],
        [
         "1",
         "2025-06-30 00:00:00",
         "138.855",
         "136.865",
         "139.103",
         "136.43",
         "7680000000.0",
         "1.45",
         "1"
        ],
        [
         "2",
         "2025-06-27 00:00:00",
         "136.866",
         "137.113",
         "137.209",
         "136.469",
         "6240000000.0",
         "-0.18",
         "0"
        ],
        [
         "3",
         "2025-06-26 00:00:00",
         "137.114",
         "135.767",
         "137.353",
         "135.756",
         "8020000000.0",
         "0.99",
         "1"
        ],
        [
         "4",
         "2025-06-25 00:00:00",
         "135.767",
         "137.163",
         "137.163",
         "135.565",
         "7710000000.0",
         "-1.02",
         "0"
        ],
        [
         "5",
         "2025-06-24 00:00:00",
         "137.165",
         "136.552",
         "138.156",
         "136.254",
         "8080000000.0",
         "0.45",
         "1"
        ],
        [
         "6",
         "2025-06-23 00:00:00",
         "136.551",
         "137.116",
         "137.13",
         "135.835",
         "7730000000.0",
         "-0.41",
         "0"
        ],
        [
         "7",
         "2025-06-20 00:00:00",
         "137.116",
         "138.715",
         "138.719",
         "136.815",
         "11290000000.0",
         "-1.15",
         "0"
        ],
        [
         "8",
         "2025-06-18 00:00:00",
         "138.717",
         "138.844",
         "139.161",
         "138.443",
         "8320000000.0",
         "-0.09",
         "0"
        ],
        [
         "9",
         "2025-06-17 00:00:00",
         "138.84",
         "139.256",
         "139.497",
         "138.293",
         "8380000000.000001",
         "-0.3",
         "0"
        ]
       ],
       "shape": {
        "columns": 8,
        "rows": 10
       }
      },
      "text/html": [
       "<div>\n",
       "<style scoped>\n",
       "    .dataframe tbody tr th:only-of-type {\n",
       "        vertical-align: middle;\n",
       "    }\n",
       "\n",
       "    .dataframe tbody tr th {\n",
       "        vertical-align: top;\n",
       "    }\n",
       "\n",
       "    .dataframe thead th {\n",
       "        text-align: right;\n",
       "    }\n",
       "</style>\n",
       "<table border=\"1\" class=\"dataframe\">\n",
       "  <thead>\n",
       "    <tr style=\"text-align: right;\">\n",
       "      <th></th>\n",
       "      <th>data</th>\n",
       "      <th>ultimo</th>\n",
       "      <th>abertura</th>\n",
       "      <th>maxima</th>\n",
       "      <th>minima</th>\n",
       "      <th>volume</th>\n",
       "      <th>variacao_porcento</th>\n",
       "      <th>status_fechamento</th>\n",
       "    </tr>\n",
       "  </thead>\n",
       "  <tbody>\n",
       "    <tr>\n",
       "      <th>0</th>\n",
       "      <td>2025-07-01</td>\n",
       "      <td>139.549</td>\n",
       "      <td>138.855</td>\n",
       "      <td>139.695</td>\n",
       "      <td>138.855</td>\n",
       "      <td>6.350000e+09</td>\n",
       "      <td>0.50</td>\n",
       "      <td>1</td>\n",
       "    </tr>\n",
       "    <tr>\n",
       "      <th>1</th>\n",
       "      <td>2025-06-30</td>\n",
       "      <td>138.855</td>\n",
       "      <td>136.865</td>\n",
       "      <td>139.103</td>\n",
       "      <td>136.430</td>\n",
       "      <td>7.680000e+09</td>\n",
       "      <td>1.45</td>\n",
       "      <td>1</td>\n",
       "    </tr>\n",
       "    <tr>\n",
       "      <th>2</th>\n",
       "      <td>2025-06-27</td>\n",
       "      <td>136.866</td>\n",
       "      <td>137.113</td>\n",
       "      <td>137.209</td>\n",
       "      <td>136.469</td>\n",
       "      <td>6.240000e+09</td>\n",
       "      <td>-0.18</td>\n",
       "      <td>0</td>\n",
       "    </tr>\n",
       "    <tr>\n",
       "      <th>3</th>\n",
       "      <td>2025-06-26</td>\n",
       "      <td>137.114</td>\n",
       "      <td>135.767</td>\n",
       "      <td>137.353</td>\n",
       "      <td>135.756</td>\n",
       "      <td>8.020000e+09</td>\n",
       "      <td>0.99</td>\n",
       "      <td>1</td>\n",
       "    </tr>\n",
       "    <tr>\n",
       "      <th>4</th>\n",
       "      <td>2025-06-25</td>\n",
       "      <td>135.767</td>\n",
       "      <td>137.163</td>\n",
       "      <td>137.163</td>\n",
       "      <td>135.565</td>\n",
       "      <td>7.710000e+09</td>\n",
       "      <td>-1.02</td>\n",
       "      <td>0</td>\n",
       "    </tr>\n",
       "    <tr>\n",
       "      <th>5</th>\n",
       "      <td>2025-06-24</td>\n",
       "      <td>137.165</td>\n",
       "      <td>136.552</td>\n",
       "      <td>138.156</td>\n",
       "      <td>136.254</td>\n",
       "      <td>8.080000e+09</td>\n",
       "      <td>0.45</td>\n",
       "      <td>1</td>\n",
       "    </tr>\n",
       "    <tr>\n",
       "      <th>6</th>\n",
       "      <td>2025-06-23</td>\n",
       "      <td>136.551</td>\n",
       "      <td>137.116</td>\n",
       "      <td>137.130</td>\n",
       "      <td>135.835</td>\n",
       "      <td>7.730000e+09</td>\n",
       "      <td>-0.41</td>\n",
       "      <td>0</td>\n",
       "    </tr>\n",
       "    <tr>\n",
       "      <th>7</th>\n",
       "      <td>2025-06-20</td>\n",
       "      <td>137.116</td>\n",
       "      <td>138.715</td>\n",
       "      <td>138.719</td>\n",
       "      <td>136.815</td>\n",
       "      <td>1.129000e+10</td>\n",
       "      <td>-1.15</td>\n",
       "      <td>0</td>\n",
       "    </tr>\n",
       "    <tr>\n",
       "      <th>8</th>\n",
       "      <td>2025-06-18</td>\n",
       "      <td>138.717</td>\n",
       "      <td>138.844</td>\n",
       "      <td>139.161</td>\n",
       "      <td>138.443</td>\n",
       "      <td>8.320000e+09</td>\n",
       "      <td>-0.09</td>\n",
       "      <td>0</td>\n",
       "    </tr>\n",
       "    <tr>\n",
       "      <th>9</th>\n",
       "      <td>2025-06-17</td>\n",
       "      <td>138.840</td>\n",
       "      <td>139.256</td>\n",
       "      <td>139.497</td>\n",
       "      <td>138.293</td>\n",
       "      <td>8.380000e+09</td>\n",
       "      <td>-0.30</td>\n",
       "      <td>0</td>\n",
       "    </tr>\n",
       "  </tbody>\n",
       "</table>\n",
       "</div>"
      ],
      "text/plain": [
       "        data   ultimo  abertura   maxima   minima        volume  \\\n",
       "0 2025-07-01  139.549   138.855  139.695  138.855  6.350000e+09   \n",
       "1 2025-06-30  138.855   136.865  139.103  136.430  7.680000e+09   \n",
       "2 2025-06-27  136.866   137.113  137.209  136.469  6.240000e+09   \n",
       "3 2025-06-26  137.114   135.767  137.353  135.756  8.020000e+09   \n",
       "4 2025-06-25  135.767   137.163  137.163  135.565  7.710000e+09   \n",
       "5 2025-06-24  137.165   136.552  138.156  136.254  8.080000e+09   \n",
       "6 2025-06-23  136.551   137.116  137.130  135.835  7.730000e+09   \n",
       "7 2025-06-20  137.116   138.715  138.719  136.815  1.129000e+10   \n",
       "8 2025-06-18  138.717   138.844  139.161  138.443  8.320000e+09   \n",
       "9 2025-06-17  138.840   139.256  139.497  138.293  8.380000e+09   \n",
       "\n",
       "   variacao_porcento  status_fechamento  \n",
       "0               0.50                  1  \n",
       "1               1.45                  1  \n",
       "2              -0.18                  0  \n",
       "3               0.99                  1  \n",
       "4              -1.02                  0  \n",
       "5               0.45                  1  \n",
       "6              -0.41                  0  \n",
       "7              -1.15                  0  \n",
       "8              -0.09                  0  \n",
       "9              -0.30                  0  "
      ]
     },
     "execution_count": 247,
     "metadata": {},
     "output_type": "execute_result"
    }
   ],
   "source": [
    "dados['status_fechamento'] = (dados['ultimo'].shift(-1) < dados['ultimo']).astype(int)\n",
    "dados.head(10)"
   ]
  },
  {
   "cell_type": "code",
   "execution_count": 248,
   "id": "15e13796",
   "metadata": {},
   "outputs": [
    {
     "data": {
      "text/plain": [
       "{'whiskers': [<matplotlib.lines.Line2D at 0x19a1614afd0>,\n",
       "  <matplotlib.lines.Line2D at 0x19a1614b9d0>],\n",
       " 'caps': [<matplotlib.lines.Line2D at 0x19a1614bb10>,\n",
       "  <matplotlib.lines.Line2D at 0x19a1614bc50>],\n",
       " 'boxes': [<matplotlib.lines.Line2D at 0x19a1614ae90>],\n",
       " 'medians': [<matplotlib.lines.Line2D at 0x19a1614b390>],\n",
       " 'fliers': [<matplotlib.lines.Line2D at 0x19a1614b4d0>],\n",
       " 'means': []}"
      ]
     },
     "execution_count": 248,
     "metadata": {},
     "output_type": "execute_result"
    },
    {
     "data": {
      "image/png": "[encoded data removed]",
      "text/plain": [
       "<Figure size 640x480 with 1 Axes>"
      ]
     },
     "metadata": {},
     "output_type": "display_data"
    }
   ],
   "source": [
    "plt.boxplot(dados['variacao_porcento'])"
   ]
  },
  {
   "cell_type": "code",
   "execution_count": 249,
   "id": "b51932fd",
   "metadata": {},
   "outputs": [
    {
     "data": {
      "image/png": "[encoded data removed]",
      "text/plain": [
       "<Figure size 640x480 with 1 Axes>"
      ]
     },
     "metadata": {},
     "output_type": "display_data"
    }
   ],
   "source": [
    "sns.violinplot(x='status_fechamento', y='ultimo', data=dados)\n",
    "plt.show()"
   ]
  },
  {
   "cell_type": "code",
   "execution_count": 250,
   "id": "3bae23ee",
   "metadata": {},
   "outputs": [
    {
     "data": {
      "text/plain": [
       "<Axes: xlabel='status_fechamento', ylabel='count'>"
      ]
     },
     "execution_count": 250,
     "metadata": {},
     "output_type": "execute_result"
    },
    {
     "data": {
      "image/png": "[encoded data removed]",
      "text/plain": [
       "<Figure size 640x480 with 1 Axes>"
      ]
     },
     "metadata": {},
     "output_type": "display_data"
    }
   ],
   "source": [
    "sns.countplot(x='status_fechamento',data=dados)\n"
   ]
  },
  {
   "cell_type": "code",
   "execution_count": 251,
   "id": "4adbfe27",
   "metadata": {},
   "outputs": [],
   "source": [
    "# 1. Crie novas colunas numéricas a partir da data\n",
    "dados['ano'] = dados['data'].dt.year\n",
    "dados['mes'] = dados['data'].dt.month\n",
    "dados['dia'] = dados['data'].dt.day\n",
    "dados['dia_da_semana'] = dados['data'].dt.dayofweek # Segunda=0, Domingo=6\n",
    "\n",
    "# 2. Remova a coluna original de data, que não é mais necessária\n",
    "dados = dados.sort_values(by=['data'])\n",
    "dados = dados.drop('data', axis=1)\n"
   ]
  },
  {
   "cell_type": "code",
   "execution_count": 252,
   "id": "cda4f7d4",
   "metadata": {},
   "outputs": [
    {
     "data": {
      "text/plain": [
       "Index(['ultimo', 'abertura', 'maxima', 'minima', 'volume', 'variacao_porcento',\n",
       "       'status_fechamento', 'ano', 'mes', 'dia', 'dia_da_semana'],\n",
       "      dtype='object')"
      ]
     },
     "execution_count": 252,
     "metadata": {},
     "output_type": "execute_result"
    }
   ],
   "source": [
    "dados.columns"
   ]
  },
  {
   "cell_type": "code",
   "execution_count": 253,
   "id": "664a3ded",
   "metadata": {},
   "outputs": [
    {
     "data": {
      "text/plain": [
       "np.int64(0)"
      ]
     },
     "execution_count": 253,
     "metadata": {},
     "output_type": "execute_result"
    }
   ],
   "source": [
    "dados['volume'].isnull().sum()"
   ]
  },
  {
   "cell_type": "code",
   "execution_count": 254,
   "id": "502c7d3c",
   "metadata": {},
   "outputs": [
    {
     "name": "stdout",
     "output_type": "stream",
     "text": [
      "<class 'pandas.core.frame.DataFrame'>\n",
      "Index: 2601 entries, 2601 to 0\n",
      "Data columns (total 11 columns):\n",
      " #   Column             Non-Null Count  Dtype  \n",
      "---  ------             --------------  -----  \n",
      " 0   ultimo             2601 non-null   float64\n",
      " 1   abertura           2601 non-null   float64\n",
      " 2   maxima             2601 non-null   float64\n",
      " 3   minima             2601 non-null   float64\n",
      " 4   volume             2601 non-null   float64\n",
      " 5   variacao_porcento  2601 non-null   float64\n",
      " 6   status_fechamento  2601 non-null   int64  \n",
      " 7   ano                2601 non-null   int32  \n",
      " 8   mes                2601 non-null   int32  \n",
      " 9   dia                2601 non-null   int32  \n",
      " 10  dia_da_semana      2601 non-null   int32  \n",
      "dtypes: float64(6), int32(4), int64(1)\n",
      "memory usage: 203.2 KB\n"
     ]
    }
   ],
   "source": [
    "dados.info()"
   ]
  },
  {
   "cell_type": "code",
   "execution_count": 255,
   "id": "ca91cdb4",
   "metadata": {},
   "outputs": [
    {
     "data": {
      "text/plain": [
       "<Axes: >"
      ]
     },
     "execution_count": 255,
     "metadata": {},
     "output_type": "execute_result"
    },
    {
     "data": {
      "image/png": "[encoded data removed]",
      "text/plain": [
       "<Figure size 800x800 with 2 Axes>"
      ]
     },
     "metadata": {},
     "output_type": "display_data"
    }
   ],
   "source": [
    "correlation_matrix = dados.corr().round(2)\n",
    "\n",
    "fig, ax = plt.subplots(figsize=(8,8))\n",
    "sns.heatmap(data=correlation_matrix, annot=True, linewidths=.5, ax=ax)"
   ]
  },
  {
   "cell_type": "code",
   "execution_count": 256,
   "id": "1bf719a9",
   "metadata": {},
   "outputs": [
    {
     "name": "stdout",
     "output_type": "stream",
     "text": [
      "ultimo               0\n",
      "abertura             0\n",
      "maxima               0\n",
      "minima               0\n",
      "volume               0\n",
      "variacao_porcento    0\n",
      "status_fechamento    0\n",
      "ano                  0\n",
      "mes                  0\n",
      "dia                  0\n",
      "dia_da_semana        0\n",
      "dtype: int64\n"
     ]
    }
   ],
   "source": [
    "print(dados.isnull().sum())"
   ]
  },
  {
   "cell_type": "markdown",
   "id": "b6556712",
   "metadata": {},
   "source": [
    "##Teste sem feeturing Scaller"
   ]
  },
  {
   "cell_type": "code",
   "execution_count": null,
   "id": "f6c32175",
   "metadata": {},
   "outputs": [],
   "source": [
    "x = dados[['ultimo', 'abertura', 'maxima', 'minima', 'volume', 'variacao_porcento','ano', 'mes', 'dia', 'dia_da_semana']]\n",
    "y = dados['status_fechamento']\n",
    "\n",
    "\n",
    "#Dados separados com train test split\n",
    "\n",
    "x_train, x_test, y_train, y_test = train_test_split(x,y, test_size=0.2, random_state=101) #0.012\n",
    "\n",
    "#Dados dos últimos 30 dias \n",
    "\n",
    "x_train_ultimo_mes, x_test_ultimo_mes = x[:-30], x[-30:]\n",
    "y_train_ultimo_mes, y_test_ultimo_mes = y[:-30], y[-30:]\n",
    "\n",
    "\n",
    "#Escalonamento dos dados\n",
    "\n",
    "from sklearn.preprocessing import StandardScaler, MinMaxScaler\n",
    "\n",
    "#Realizando o escalonamento dos dados separados com train test split\n",
    "scaler = StandardScaler()\n",
    "scaler.fit(x_train)\n",
    "x_train_escalonado = scaler.transform(x_train)\n",
    "x_test_escalonado = scaler.transform(x_test)\n",
    "\n",
    "#Realizando o escalonamento dos dados dos últimos 30 dias \n",
    "\n",
    "scaler = StandardScaler()\n",
    "scaler.fit(x_train_ultimo_mes)\n",
    "x_train_ultimo_mes_escalonado = scaler.transform(x_train_ultimo_mes)\n",
    "x_test_ultimo_mes_escalonado = scaler.transform(x_test_ultimo_mes)\n",
    "\n"
   ]
  },
  {
   "cell_type": "markdown",
   "id": "56d7c914",
   "metadata": {},
   "source": [
    "# KNN"
   ]
  },
  {
   "cell_type": "markdown",
   "id": "372849bd",
   "metadata": {},
   "source": [
    "## Teste sem escalonamento de dados"
   ]
  },
  {
   "cell_type": "code",
   "execution_count": null,
   "id": "e7a22d97",
   "metadata": {},
   "outputs": [
    {
     "name": "stdout",
     "output_type": "stream",
     "text": [
      "Accuracy:  0.51\n"
     ]
    }
   ],
   "source": [
    "#Teste com Dados separados com train test split\n",
    "from sklearn.neighbors import KNeighborsClassifier\n",
    "\n",
    "knn = KNeighborsClassifier(n_neighbors=3)\n",
    "knn.fit(x_train, y_train)\n",
    "\n",
    "y_pred = knn.predict(x_test)\n",
    "\n",
    "accuracy = accuracy_score(y_true= y_test, y_pred=y_pred)\n",
    "print(\"Accuracy: \", round(accuracy,2))"
   ]
  },
  {
   "cell_type": "code",
   "execution_count": null,
   "id": "d471eae8",
   "metadata": {},
   "outputs": [
    {
     "name": "stdout",
     "output_type": "stream",
     "text": [
      "Accuracy:  0.6\n"
     ]
    }
   ],
   "source": [
    "#Teste com Dados dos últimos 30 dias \n",
    "\n",
    "knn_2 = KNeighborsClassifier(n_neighbors=3)\n",
    "\n",
    "knn_2.fit(x_train_ultimo_mes,y_train_ultimo_mes)\n",
    "\n",
    "y_pred_ultimo_mes = knn_2.predict(x_test_ultimo_mes)\n",
    "accuracy = accuracy_score(y_true=y_test_ultimo_mes,y_pred=y_pred_ultimo_mes)\n",
    "print(\"Accuracy: \", round(accuracy,2))"
   ]
  },
  {
   "cell_type": "markdown",
   "id": "fda87854",
   "metadata": {},
   "source": [
    "TESTE DE ACCURACY COM BASE 90/10 = 0.49\n",
    "\n",
    "TESTE DE ACURACY COM BASE 80/20 = 0.51"
   ]
  },
  {
   "cell_type": "markdown",
   "id": "9a741d87",
   "metadata": {},
   "source": [
    "## Teste com escalonamento de dados "
   ]
  },
  {
   "cell_type": "code",
   "execution_count": null,
   "id": "f6e70d10",
   "metadata": {},
   "outputs": [],
   "source": [
    "# Encontrando o número de K com menor diferença na média de erro\n",
    "error = []\n",
    "\n",
    "for i in range(1,10):\n",
    "    knn = KNeighborsClassifier(n_neighbors=i)\n",
    "    knn.fit(x_train_escalonado, y_train)\n",
    "    pred_i = knn.predict(x_test_escalonado)\n",
    "    error.append(np.mean(pred_i != y_test))"
   ]
  },
  {
   "cell_type": "code",
   "execution_count": 321,
   "id": "374c51c3",
   "metadata": {},
   "outputs": [
    {
     "data": {
      "text/plain": [
       "Text(0, 0.5, 'Mean Error')"
      ]
     },
     "execution_count": 321,
     "metadata": {},
     "output_type": "execute_result"
    },
    {
     "data": {
      "image/png": "[encoded data removed]",
      "text/plain": [
       "<Figure size 1200x600 with 1 Axes>"
      ]
     },
     "metadata": {},
     "output_type": "display_data"
    }
   ],
   "source": [
    "plt.figure(figsize=(12,6))\n",
    "plt.plot(range(1,10), error, color='red', linestyle='dashed', marker='o', markerfacecolor=\"blue\", markersize=10)\n",
    "plt.title('Error Rate K Value')\n",
    "plt.xlabel('K Value')\n",
    "plt.ylabel('Mean Error')"
   ]
  },
  {
   "cell_type": "code",
   "execution_count": 379,
   "id": "af7b2429",
   "metadata": {},
   "outputs": [
    {
     "name": "stdout",
     "output_type": "stream",
     "text": [
      "Accuracy:  0.92\n"
     ]
    }
   ],
   "source": [
    "# Teste com Train Teste Split\n",
    "\n",
    "knn = KNeighborsClassifier(n_neighbors=7)\n",
    "knn.fit(x_train_escalonado, y_train)\n",
    "\n",
    "y_pred = knn.predict(x_test_escalonado)\n",
    "\n",
    "accuracy = accuracy_score(y_true= y_test, y_pred=y_pred)\n",
    "print(\"Accuracy: \", round(accuracy,2))"
   ]
  },
  {
   "cell_type": "code",
   "execution_count": 380,
   "id": "cf88ef7c",
   "metadata": {},
   "outputs": [
    {
     "name": "stdout",
     "output_type": "stream",
     "text": [
      "Accuracy:  0.6\n"
     ]
    }
   ],
   "source": [
    "# Testando com os últimos 30 dias na base de teste\n",
    "\n",
    "knn_2 = KNeighborsClassifier(n_neighbors=7)\n",
    "knn_2.fit(x_train_ultimo_mes_escalonado , y_train_ultimo_mes)\n",
    "\n",
    "y_pred = knn_2.predict(x_test_ultimo_mes_escalonado )\n",
    "\n",
    "accuracy = accuracy_score(y_true=y_test_ultimo_mes, y_pred=y_pred)\n",
    "print(\"Accuracy: \", round(accuracy,2))"
   ]
  },
  {
   "cell_type": "markdown",
   "id": "be06852b",
   "metadata": {},
   "source": [
    "# SVM"
   ]
  },
  {
   "cell_type": "code",
   "execution_count": 366,
   "id": "f55020ed",
   "metadata": {},
   "outputs": [],
   "source": [
    "from sklearn.svm import LinearSVC\n",
    "from sklearn.pipeline import Pipeline"
   ]
  },
  {
   "cell_type": "code",
   "execution_count": 378,
   "id": "485250a2",
   "metadata": {},
   "outputs": [],
   "source": [
    "svm = Pipeline(\n",
    "    [\n",
    "        (\"linear_svc\", LinearSVC(C=1)) # C é a margem de separação dos dados\n",
    "    ]\n",
    ")"
   ]
  },
  {
   "cell_type": "markdown",
   "id": "0455fb69",
   "metadata": {},
   "source": [
    "## Teste sem escalonamento de dados"
   ]
  },
  {
   "cell_type": "code",
   "execution_count": 376,
   "id": "b5407ad0",
   "metadata": {},
   "outputs": [
    {
     "name": "stdout",
     "output_type": "stream",
     "text": [
      "0.5028790786948176\n"
     ]
    }
   ],
   "source": [
    "# Teste com Train Teste Split\n",
    "svm.fit(x_train,y_train)\n",
    "y_predito_svm = svm.predict(x_test)\n",
    "print(accuracy_score(y_test,y_predito_svm))"
   ]
  },
  {
   "cell_type": "code",
   "execution_count": 377,
   "id": "392e957b",
   "metadata": {},
   "outputs": [
    {
     "name": "stdout",
     "output_type": "stream",
     "text": [
      "0.43333333333333335\n"
     ]
    }
   ],
   "source": [
    "# Testando com os últimos 30 dias na base de teste\n",
    "svm.fit(x_train_ultimo_mes, y_train_ultimo_mes)\n",
    "y_pred_svm = svm.predict(x_test_ultimo_mes)\n",
    "print(accuracy_score(y_test_ultimo_mes,y_pred_svm))"
   ]
  },
  {
   "cell_type": "markdown",
   "id": "e62aa061",
   "metadata": {},
   "source": [
    "## Teste com escalonamento de dados "
   ]
  },
  {
   "cell_type": "code",
   "execution_count": null,
   "id": "2307b085",
   "metadata": {},
   "outputs": [
    {
     "name": "stdout",
     "output_type": "stream",
     "text": [
      "1.0\n"
     ]
    }
   ],
   "source": [
    "# Teste com Train Teste Split Escalonado\n",
    "\n",
    "svm.fit(x_train_escalonado, y_train)\n",
    "\n",
    "y_predito_svm = svm.predict(x_test_escalonado)\n",
    "\n",
    "print(accuracy_score(y_test,y_predito_svm))"
   ]
  },
  {
   "cell_type": "code",
   "execution_count": null,
   "id": "8bbf4c44",
   "metadata": {},
   "outputs": [
    {
     "name": "stdout",
     "output_type": "stream",
     "text": [
      "1.0\n"
     ]
    }
   ],
   "source": [
    "# Testando com os últimos 30 dias na base de teste escalonado\n",
    "\n",
    "svm.fit(x_train_ultimo_mes_escalonado, y_train_ultimo_mes)\n",
    "\n",
    "y_predito_svm = svm.predict(x_test_ultimo_mes_escalonado)\n",
    "\n",
    "print(accuracy_score(y_test_ultimo_mes,y_predito_svm))"
   ]
  }
 ],
 "metadata": {
  "kernelspec": {
   "display_name": "Python 3",
   "language": "python",
   "name": "python3"
  },
  "language_info": {
   "codemirror_mode": {
    "name": "ipython",
    "version": 3
   },
   "file_extension": ".py",
   "mimetype": "text/x-python",
   "name": "python",
   "nbconvert_exporter": "python",
   "pygments_lexer": "ipython3",
   "version": "3.13.2"
  }
 },
 "nbformat": 4,
 "nbformat_minor": 5
}
